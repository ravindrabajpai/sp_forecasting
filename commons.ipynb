{
  "nbformat": 4,
  "nbformat_minor": 0,
  "metadata": {
    "colab": {
      "name": "commons.ipynb",
      "provenance": [],
      "authorship_tag": "ABX9TyPAKRMnnimDSXOAcqPNbilD",
      "include_colab_link": true
    },
    "kernelspec": {
      "name": "python3",
      "display_name": "Python 3"
    },
    "language_info": {
      "name": "python"
    }
  },
  "cells": [
    {
      "cell_type": "markdown",
      "metadata": {
        "id": "view-in-github",
        "colab_type": "text"
      },
      "source": [
        "<a href=\"https://colab.research.google.com/github/ravindrabajpai/sp_forecasting/blob/main/commons.ipynb\" target=\"_parent\"><img src=\"https://colab.research.google.com/assets/colab-badge.svg\" alt=\"Open In Colab\"/></a>"
      ]
    },
    {
      "cell_type": "code",
      "execution_count": null,
      "metadata": {
        "id": "rKuznaH4wb-O"
      },
      "outputs": [],
      "source": [
        "get_start_date <- function(num_years=5) {\n",
        "  return(Sys.Date() - years(num_years))\n",
        "}"
      ]
    }
  ]
}