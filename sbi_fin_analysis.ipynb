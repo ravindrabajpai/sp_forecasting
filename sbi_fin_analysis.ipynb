{
  "nbformat": 4,
  "nbformat_minor": 0,
  "metadata": {
    "colab": {
      "name": "sbi_fin_analysis.ipynb",
      "provenance": [],
      "authorship_tag": "ABX9TyMhgH47KVYtlg3rzvexILbP",
      "include_colab_link": true
    },
    "kernelspec": {
      "name": "python3",
      "display_name": "Python 3"
    },
    "language_info": {
      "name": "python"
    }
  },
  "cells": [
    {
      "cell_type": "markdown",
      "metadata": {
        "id": "view-in-github",
        "colab_type": "text"
      },
      "source": [
        "<a href=\"https://colab.research.google.com/github/ravindrabajpai/sp_forecasting/blob/main/sbi_fin_analysis.ipynb\" target=\"_parent\"><img src=\"https://colab.research.google.com/assets/colab-badge.svg\" alt=\"Open In Colab\"/></a>"
      ]
    },
    {
      "cell_type": "code",
      "source": [
        "!pip install yfinance"
      ],
      "metadata": {
        "colab": {
          "base_uri": "https://localhost:8080/"
        },
        "id": "GtY6HtC3cnmY",
        "outputId": "4d1440d7-0544-49b9-d8e1-d7083ae8bbe8"
      },
      "execution_count": 1,
      "outputs": [
        {
          "output_type": "stream",
          "name": "stdout",
          "text": [
            "Collecting yfinance\n",
            "  Downloading yfinance-0.1.70-py2.py3-none-any.whl (26 kB)\n",
            "Requirement already satisfied: pandas>=0.24.0 in /usr/local/lib/python3.7/dist-packages (from yfinance) (1.3.5)\n",
            "Requirement already satisfied: multitasking>=0.0.7 in /usr/local/lib/python3.7/dist-packages (from yfinance) (0.0.10)\n",
            "Requirement already satisfied: numpy>=1.15 in /usr/local/lib/python3.7/dist-packages (from yfinance) (1.21.6)\n",
            "Collecting lxml>=4.5.1\n",
            "  Downloading lxml-4.8.0-cp37-cp37m-manylinux_2_17_x86_64.manylinux2014_x86_64.manylinux_2_24_x86_64.whl (6.4 MB)\n",
            "\u001b[K     |████████████████████████████████| 6.4 MB 8.3 MB/s \n",
            "\u001b[?25hCollecting requests>=2.26\n",
            "  Downloading requests-2.27.1-py2.py3-none-any.whl (63 kB)\n",
            "\u001b[K     |████████████████████████████████| 63 kB 658 kB/s \n",
            "\u001b[?25hRequirement already satisfied: python-dateutil>=2.7.3 in /usr/local/lib/python3.7/dist-packages (from pandas>=0.24.0->yfinance) (2.8.2)\n",
            "Requirement already satisfied: pytz>=2017.3 in /usr/local/lib/python3.7/dist-packages (from pandas>=0.24.0->yfinance) (2022.1)\n",
            "Requirement already satisfied: six>=1.5 in /usr/local/lib/python3.7/dist-packages (from python-dateutil>=2.7.3->pandas>=0.24.0->yfinance) (1.15.0)\n",
            "Requirement already satisfied: idna<4,>=2.5 in /usr/local/lib/python3.7/dist-packages (from requests>=2.26->yfinance) (2.10)\n",
            "Requirement already satisfied: urllib3<1.27,>=1.21.1 in /usr/local/lib/python3.7/dist-packages (from requests>=2.26->yfinance) (1.24.3)\n",
            "Requirement already satisfied: certifi>=2017.4.17 in /usr/local/lib/python3.7/dist-packages (from requests>=2.26->yfinance) (2021.10.8)\n",
            "Requirement already satisfied: charset-normalizer~=2.0.0 in /usr/local/lib/python3.7/dist-packages (from requests>=2.26->yfinance) (2.0.12)\n",
            "Installing collected packages: requests, lxml, yfinance\n",
            "  Attempting uninstall: requests\n",
            "    Found existing installation: requests 2.23.0\n",
            "    Uninstalling requests-2.23.0:\n",
            "      Successfully uninstalled requests-2.23.0\n",
            "  Attempting uninstall: lxml\n",
            "    Found existing installation: lxml 4.2.6\n",
            "    Uninstalling lxml-4.2.6:\n",
            "      Successfully uninstalled lxml-4.2.6\n",
            "\u001b[31mERROR: pip's dependency resolver does not currently take into account all the packages that are installed. This behaviour is the source of the following dependency conflicts.\n",
            "google-colab 1.0.0 requires requests~=2.23.0, but you have requests 2.27.1 which is incompatible.\n",
            "datascience 0.10.6 requires folium==0.2.1, but you have folium 0.8.3 which is incompatible.\u001b[0m\n",
            "Successfully installed lxml-4.8.0 requests-2.27.1 yfinance-0.1.70\n"
          ]
        }
      ]
    },
    {
      "cell_type": "code",
      "execution_count": 2,
      "metadata": {
        "id": "HfgiGofcciXh"
      },
      "outputs": [],
      "source": [
        "import yfinance as yf\n",
        "\n",
        "sbi = yf.Ticker(\"SBIN.NS\")\n",
        "hdfc = yf.Ticker(\"HDFC.NS\")\n",
        "canbk = yf.Ticker(\"CANBK.NS\")\n",
        "icici = yf.Ticker(\"ICICIBANK.NS\")\n"
      ]
    },
    {
      "cell_type": "code",
      "source": [
        "sbibs   = sbi.get_balance_sheet(as_dict=True)\n",
        "hdfcbs  = hdfc.get_balance_sheet(as_dict=True)\n",
        "canbkbs = canbk.get_balance_sheet(as_dict=True)\n",
        "icicibs = icici.get_balance_sheet(as_dict=True)"
      ],
      "metadata": {
        "id": "-tu0ZlYLdWg8"
      },
      "execution_count": 10,
      "outputs": []
    },
    {
      "cell_type": "code",
      "source": [
        ""
      ],
      "metadata": {
        "id": "fpeZfHfdlCrd"
      },
      "execution_count": null,
      "outputs": []
    },
    {
      "cell_type": "code",
      "source": [
        "\n",
        "from datetime import datetime  \n",
        "from datetime import timedelta  \n",
        "\n",
        "\n",
        "for key in sbibs:\n",
        "  print (key)\n",
        "  sbiy   = sbi.history(start=key, end=key + timedelta(days=1))\n",
        "  \n",
        "  print(sbiy)"
      ],
      "metadata": {
        "colab": {
          "base_uri": "https://localhost:8080/"
        },
        "id": "dIVqZ7SRixx-",
        "outputId": "80417e6e-c704-4a0a-8d17-236e63551559"
      },
      "execution_count": 15,
      "outputs": [
        {
          "output_type": "stream",
          "name": "stdout",
          "text": [
            "2021-03-31 00:00:00\n",
            "                  Open        High         Low       Close    Volume  \\\n",
            "Date                                                                   \n",
            "2021-03-31  357.003938  364.484889  354.675461  360.967346  38651025   \n",
            "\n",
            "            Dividends  Stock Splits  \n",
            "Date                                 \n",
            "2021-03-31          0             0  \n",
            "2020-03-31 00:00:00\n",
            "                  Open        High        Low      Close    Volume  Dividends  \\\n",
            "Date                                                                            \n",
            "2020-03-31  190.243572  196.684109  186.32971  195.04921  59543412          0   \n",
            "\n",
            "            Stock Splits  \n",
            "Date                      \n",
            "2020-03-31             0  \n",
            "2019-03-31 00:00:00\n",
            "- SBIN.NS: No data found for this date range, symbol may be delisted\n",
            "Empty DataFrame\n",
            "Columns: [Open, High, Low, Close, Adj Close, Volume]\n",
            "Index: []\n",
            "2018-03-31 00:00:00\n",
            "- SBIN.NS: No data found for this date range, symbol may be delisted\n",
            "Empty DataFrame\n",
            "Columns: [Open, High, Low, Close, Adj Close, Volume]\n",
            "Index: []\n"
          ]
        }
      ]
    },
    {
      "cell_type": "code",
      "source": [
        ""
      ],
      "metadata": {
        "id": "p_pF5hHDkw2l"
      },
      "execution_count": null,
      "outputs": []
    }
  ]
}