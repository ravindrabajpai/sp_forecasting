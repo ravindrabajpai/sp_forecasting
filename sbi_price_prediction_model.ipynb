{
  "nbformat": 4,
  "nbformat_minor": 0,
  "metadata": {
    "colab": {
      "name": "sbi_price_prediction_model.ipynb",
      "provenance": [],
      "collapsed_sections": [],
      "authorship_tag": "ABX9TyMiZ3/FpWGN+qhqC0QaB/EK",
      "include_colab_link": true
    },
    "kernelspec": {
      "name": "python3",
      "display_name": "Python 3"
    },
    "language_info": {
      "name": "python"
    }
  },
  "cells": [
    {
      "cell_type": "markdown",
      "metadata": {
        "id": "view-in-github",
        "colab_type": "text"
      },
      "source": [
        "<a href=\"https://colab.research.google.com/github/ravindrabajpai/sp_forecasting/blob/main/sbi_price_prediction_model.ipynb\" target=\"_parent\"><img src=\"https://colab.research.google.com/assets/colab-badge.svg\" alt=\"Open In Colab\"/></a>"
      ]
    },
    {
      "cell_type": "code",
      "source": [
        "import pandas as pd\n",
        "url = 'https://raw.githubusercontent.com/ravindrabajpai/sp_forecasting/main/SBIN.NS-2.csv'\n",
        "df = pd.read_csv(url)\n",
        "\n"
      ],
      "metadata": {
        "id": "fXZ_4_inpilK"
      },
      "execution_count": 49,
      "outputs": []
    },
    {
      "cell_type": "code",
      "source": [
        "df.size\n",
        "df.columns"
      ],
      "metadata": {
        "colab": {
          "base_uri": "https://localhost:8080/"
        },
        "id": "wZhXY6RhsEXj",
        "outputId": "c1318fb9-93b7-4a13-df6a-478770999001"
      },
      "execution_count": 53,
      "outputs": [
        {
          "output_type": "execute_result",
          "data": {
            "text/plain": [
              "Index(['index', 'Date', 'Adj Close', 'Volume', 'Sentiments'], dtype='object')"
            ]
          },
          "metadata": {},
          "execution_count": 53
        }
      ]
    },
    {
      "cell_type": "code",
      "source": [
        "import numpy as np\n",
        "temperature = np.zeros(df.size,)\n",
        "raw_data = np.zeros((df.size, len(df.columns) - 1))\n",
        "temperature = df[['Adj Close']].to_numpy()\n",
        "raw_data = df[['Adj Close', 'Volume', 'Sentiments']].to_numpy()\n",
        "\n",
        "print(temperature[0])\n",
        "print(raw_data[0])"
      ],
      "metadata": {
        "colab": {
          "base_uri": "https://localhost:8080/"
        },
        "id": "dhuoHZ3-ZILr",
        "outputId": "c27a259f-a4fc-4784-c163-bc7b1a796a57"
      },
      "execution_count": 55,
      "outputs": [
        {
          "output_type": "stream",
          "name": "stdout",
          "text": [
            "[280.892944]\n",
            "[2.80892944e+02 1.00778530e+07 0.00000000e+00]\n"
          ]
        }
      ]
    },
    {
      "cell_type": "code",
      "source": [
        "print(len(temperature))\n",
        "print(len(raw_data))"
      ],
      "metadata": {
        "colab": {
          "base_uri": "https://localhost:8080/"
        },
        "id": "V4WFtGenvezQ",
        "outputId": "eb1de2a9-f504-4a0e-f81b-cf1a64bfba81"
      },
      "execution_count": 56,
      "outputs": [
        {
          "output_type": "stream",
          "name": "stdout",
          "text": [
            "1236\n",
            "1236\n"
          ]
        }
      ]
    },
    {
      "cell_type": "code",
      "source": [
        "from matplotlib import pyplot as plt\n",
        "plt.plot(range(len(temperature)), temperature)"
      ],
      "metadata": {
        "colab": {
          "base_uri": "https://localhost:8080/",
          "height": 282
        },
        "id": "7QSQYWjTZu-q",
        "outputId": "c3910509-8fc3-4a9e-a42d-f224100a9752"
      },
      "execution_count": 57,
      "outputs": [
        {
          "output_type": "execute_result",
          "data": {
            "text/plain": [
              "[<matplotlib.lines.Line2D at 0x7fb224c29ad0>]"
            ]
          },
          "metadata": {},
          "execution_count": 57
        },
        {
          "output_type": "display_data",
          "data": {
            "text/plain": [
              "<Figure size 432x288 with 1 Axes>"
            ],
            "image/png": "[encoded data removed]"
          },
          "metadata": {
            "needs_background": "light"
          }
        }
      ]
    },
    {
      "cell_type": "code",
      "source": [
        "num_train_samples = int(0.5 * len(raw_data))\n",
        "num_val_samples = int(0.25 * len(raw_data))\n",
        "num_test_samples = len(raw_data) - num_train_samples - num_val_samples\n",
        "print(\"num_train_samples:\", num_train_samples)\n",
        "print(\"num_val_samples:\", num_val_samples)\n",
        "print(\"num_test_samples:\", num_test_samples)"
      ],
      "metadata": {
        "colab": {
          "base_uri": "https://localhost:8080/"
        },
        "id": "YYQNym99bybr",
        "outputId": "0bb9790a-3efe-4647-f4ac-40980a3e88db"
      },
      "execution_count": 59,
      "outputs": [
        {
          "output_type": "stream",
          "name": "stdout",
          "text": [
            "num_train_samples: 618\n",
            "num_val_samples: 309\n",
            "num_test_samples: 309\n"
          ]
        }
      ]
    },
    {
      "cell_type": "code",
      "source": [
        "mean = raw_data[:num_train_samples].mean(axis=0)\n",
        "raw_data -= mean\n",
        "std = raw_data[:num_train_samples].std(axis=0)\n",
        "raw_data /= std"
      ],
      "metadata": {
        "id": "YdswTQNPb_7P"
      },
      "execution_count": 60,
      "outputs": []
    },
    {
      "cell_type": "code",
      "source": [
        "import numpy as np\n",
        "from tensorflow import keras\n",
        "int_sequence = np.arange(10)\n",
        "dummy_dataset = keras.utils.timeseries_dataset_from_array(\n",
        "    data=int_sequence[:-3],\n",
        "    targets=int_sequence[3:],\n",
        "    sequence_length=3,\n",
        "    batch_size=2,\n",
        ")\n",
        "\n",
        "for inputs, targets in dummy_dataset:\n",
        "    for i in range(inputs.shape[0]):\n",
        "        print([int(x) for x in inputs[i]], int(targets[i]))"
      ],
      "metadata": {
        "colab": {
          "base_uri": "https://localhost:8080/"
        },
        "id": "syzGZWN2cTIw",
        "outputId": "b9224086-8df8-478e-c187-7b2fca72e0fe"
      },
      "execution_count": 61,
      "outputs": [
        {
          "output_type": "stream",
          "name": "stdout",
          "text": [
            "[0, 1, 2] 3\n",
            "[1, 2, 3] 4\n",
            "[2, 3, 4] 5\n",
            "[3, 4, 5] 6\n",
            "[4, 5, 6] 7\n"
          ]
        }
      ]
    },
    {
      "cell_type": "code",
      "source": [
        "sampling_rate = 6\n",
        "sequence_length = 20\n",
        "delay = sampling_rate * (sequence_length + 24 - 1)\n",
        "batch_size = 4\n",
        "\n",
        "train_dataset = keras.utils.timeseries_dataset_from_array(\n",
        "    raw_data[:-delay],\n",
        "    targets=temperature[delay:],\n",
        "    sampling_rate=sampling_rate,\n",
        "    sequence_length=sequence_length,\n",
        "    shuffle=True,\n",
        "    batch_size=batch_size,\n",
        "    start_index=0,\n",
        "    end_index=num_train_samples)\n",
        "\n",
        "val_dataset = keras.utils.timeseries_dataset_from_array(\n",
        "    raw_data[:-delay],\n",
        "    targets=temperature[delay:],\n",
        "    sampling_rate=sampling_rate,\n",
        "    sequence_length=sequence_length,\n",
        "    shuffle=True,\n",
        "    batch_size=batch_size,\n",
        "    start_index=num_train_samples,\n",
        "    end_index=num_train_samples + num_val_samples)\n",
        "\n",
        "test_dataset = keras.utils.timeseries_dataset_from_array(\n",
        "    raw_data[:-delay],\n",
        "    targets=temperature[delay:],\n",
        "    sampling_rate=sampling_rate,\n",
        "    sequence_length=sequence_length,\n",
        "    shuffle=True,\n",
        "    batch_size=batch_size,\n",
        "    start_index=num_train_samples + num_val_samples)"
      ],
      "metadata": {
        "id": "vCjl38B5dkUv"
      },
      "execution_count": 71,
      "outputs": []
    },
    {
      "cell_type": "code",
      "source": [
        "for samples, targets in train_dataset:\n",
        "    print(\"samples shape:\", samples.shape)\n",
        "    print(\"targets shape:\", targets.shape)\n",
        "    break"
      ],
      "metadata": {
        "colab": {
          "base_uri": "https://localhost:8080/"
        },
        "id": "kuS__rR5kus6",
        "outputId": "73e40c25-8565-4c46-ffdb-15f6b74da8b4"
      },
      "execution_count": 72,
      "outputs": [
        {
          "output_type": "stream",
          "name": "stdout",
          "text": [
            "samples shape: (4, 20, 3)\n",
            "targets shape: (4, 1)\n"
          ]
        }
      ]
    },
    {
      "cell_type": "code",
      "source": [
        "from tensorflow import keras\n",
        "from tensorflow.keras import layers\n",
        "\n",
        "inputs = keras.Input(shape=(sequence_length, raw_data.shape[-1]))\n",
        "x = layers.LSTM(8, recurrent_dropout=0.25)(inputs)\n",
        "x = layers.Dropout(0.5)(x)\n",
        "outputs = layers.Dense(1)(x)\n",
        "model = keras.Model(inputs, outputs)\n",
        "\n",
        "callbacks = [\n",
        "    keras.callbacks.ModelCheckpoint(\"sbins.keras\",\n",
        "                                    save_best_only=True)\n",
        "]\n",
        "model.compile(optimizer=\"rmsprop\", loss=\"mse\", metrics=[\"mae\"])\n",
        "history = model.fit(train_dataset,\n",
        "                    epochs=20,\n",
        "                    validation_data=val_dataset,\n",
        "                    callbacks=callbacks)\n",
        "\n",
        "model = keras.models.load_model(\"sbins.keras\")\n"
      ],
      "metadata": {
        "colab": {
          "base_uri": "https://localhost:8080/"
        },
        "id": "C-odgL0Ok1tA",
        "outputId": "affe38ee-e7b4-42a8-c64d-8f054bc4b79b"
      },
      "execution_count": 85,
      "outputs": [
        {
          "output_type": "stream",
          "name": "stdout",
          "text": [
            "Epoch 1/20\n",
            "125/125 [==============================] - 4s 18ms/step - loss: 82986.8672 - mae: 284.7892 - val_loss: 129738.2656 - val_mae: 353.8694\n",
            "Epoch 2/20\n",
            "125/125 [==============================] - 2s 15ms/step - loss: 81741.3438 - mae: 282.5906 - val_loss: 129176.6406 - val_mae: 353.0768\n",
            "Epoch 3/20\n",
            "125/125 [==============================] - 2s 16ms/step - loss: 80508.8203 - mae: 280.3963 - val_loss: 128403.9297 - val_mae: 351.9222\n",
            "Epoch 4/20\n",
            "125/125 [==============================] - 2s 15ms/step - loss: 79575.2500 - mae: 278.7162 - val_loss: 126781.9766 - val_mae: 349.6190\n",
            "Epoch 5/20\n",
            "125/125 [==============================] - 2s 16ms/step - loss: 78766.5078 - mae: 277.2627 - val_loss: 124955.1406 - val_mae: 347.0579\n",
            "Epoch 6/20\n",
            "125/125 [==============================] - 2s 15ms/step - loss: 78036.0156 - mae: 275.9109 - val_loss: 123912.5469 - val_mae: 345.5535\n",
            "Epoch 7/20\n",
            "125/125 [==============================] - 2s 16ms/step - loss: 77584.7812 - mae: 275.1182 - val_loss: 123130.6094 - val_mae: 344.4168\n",
            "Epoch 8/20\n",
            "125/125 [==============================] - 2s 16ms/step - loss: 76940.5938 - mae: 273.9505 - val_loss: 122402.7188 - val_mae: 343.3569\n",
            "Epoch 9/20\n",
            "125/125 [==============================] - 2s 16ms/step - loss: 76530.8438 - mae: 273.2170 - val_loss: 121690.7500 - val_mae: 342.3179\n",
            "Epoch 10/20\n",
            "125/125 [==============================] - 2s 16ms/step - loss: 76063.8984 - mae: 272.3296 - val_loss: 120997.1562 - val_mae: 341.3028\n",
            "Epoch 11/20\n",
            "125/125 [==============================] - 2s 16ms/step - loss: 75042.7109 - mae: 270.4930 - val_loss: 120294.3828 - val_mae: 340.2715\n",
            "Epoch 12/20\n",
            "125/125 [==============================] - 2s 16ms/step - loss: 74672.0547 - mae: 269.7935 - val_loss: 119609.4297 - val_mae: 339.2635\n",
            "Epoch 13/20\n",
            "125/125 [==============================] - 2s 15ms/step - loss: 74319.2734 - mae: 269.1374 - val_loss: 118933.1406 - val_mae: 338.2652\n",
            "Epoch 14/20\n",
            "125/125 [==============================] - 2s 16ms/step - loss: 73817.4609 - mae: 268.1443 - val_loss: 118252.6172 - val_mae: 337.2578\n",
            "Epoch 15/20\n",
            "125/125 [==============================] - 2s 16ms/step - loss: 73228.6875 - mae: 266.9839 - val_loss: 117576.0859 - val_mae: 336.2532\n",
            "Epoch 16/20\n",
            "125/125 [==============================] - 2s 16ms/step - loss: 72697.3906 - mae: 266.0129 - val_loss: 116899.3828 - val_mae: 335.2455\n",
            "Epoch 17/20\n",
            "125/125 [==============================] - 2s 15ms/step - loss: 71923.8125 - mae: 264.5909 - val_loss: 116224.4297 - val_mae: 334.2373\n",
            "Epoch 18/20\n",
            "125/125 [==============================] - 2s 16ms/step - loss: 71764.0781 - mae: 264.1949 - val_loss: 115553.6875 - val_mae: 333.2324\n",
            "Epoch 19/20\n",
            "125/125 [==============================] - 2s 15ms/step - loss: 71102.7734 - mae: 262.9890 - val_loss: 114885.8125 - val_mae: 332.2288\n",
            "Epoch 20/20\n",
            "125/125 [==============================] - 2s 17ms/step - loss: 70684.2969 - mae: 262.0898 - val_loss: 114216.9141 - val_mae: 331.2206\n"
          ]
        }
      ]
    },
    {
      "cell_type": "code",
      "source": [
        "print(f\"Test MAE: {model.evaluate(test_dataset)[1]:.2f}\")\n",
        " "
      ],
      "metadata": {
        "colab": {
          "base_uri": "https://localhost:8080/"
        },
        "id": "6Yu1elct_exT",
        "outputId": "419a331d-7699-4427-df72-9f515397bdd5"
      },
      "execution_count": 89,
      "outputs": [
        {
          "output_type": "stream",
          "name": "stdout",
          "text": [
            "48/48 [==============================] - 0s 4ms/step - loss: 114216.9062 - mae: 331.2206\n",
            "Test MAE: 331.22\n"
          ]
        }
      ]
    }
  ]
}